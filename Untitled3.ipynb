{
 "cells": [
  {
   "cell_type": "code",
   "execution_count": 5,
   "metadata": {
    "collapsed": false,
    "scrolled": true
   },
   "outputs": [
    {
     "name": "stdout",
     "output_type": "stream",
     "text": [
      "^C\n"
     ]
    }
   ],
   "source": [
    "!conda install -y --channel https://conda.anaconda.org/CogSci pygame\n"
   ]
  },
  {
   "cell_type": "code",
   "execution_count": 3,
   "metadata": {
    "collapsed": false
   },
   "outputs": [
    {
     "name": "stdout",
     "output_type": "stream",
     "text": [
      "Populating the interactive namespace from numpy and matplotlib\n"
     ]
    }
   ],
   "source": [
    "%pylab inline\n",
    "import pygame\n"
   ]
  },
  {
   "cell_type": "code",
   "execution_count": 5,
   "metadata": {
    "collapsed": true
   },
   "outputs": [],
   "source": [
    "\n",
    "plane_img = pygame.image.load(r\"C:\\Users\\user\\Desktop\\zz.png\")\n",
    "\n",
    "\n",
    "player_rect = pygame.Rect(0, 0, 0, 0)\n",
    "player = plane_img.subsurface(player_rect)\n",
    "player = plane_img\n",
    "player_pos = [150,380]"
   ]
  },
  {
   "cell_type": "code",
   "execution_count": 6,
   "metadata": {
    "collapsed": false
   },
   "outputs": [
    {
     "ename": "SystemExit",
     "evalue": "",
     "output_type": "error",
     "traceback": [
      "An exception has occurred, use %tb to see the full traceback.\n",
      "\u001b[1;31mSystemExit\u001b[0m\n"
     ]
    },
    {
     "name": "stderr",
     "output_type": "stream",
     "text": [
      "To exit: use 'exit', 'quit', or Ctrl-D.\n"
     ]
    }
   ],
   "source": [
    "1 # -*- coding: utf-8 -*-\n",
    "\n",
    "from pygame.locals import *\n",
    "from sys import exit\n",
    "SCREEN_WIDTH = 324\n",
    "SCREEN_HEIGHT = 450\n",
    "\n",
    "pygame.init()\n",
    "screen = pygame.display.set_mode((SCREEN_WIDTH, SCREEN_HEIGHT))\n",
    "pygame.display.set_caption('神')\n",
    "\n",
    "background = pygame.image.load('C:\\Users\\user\\Desktop\\d217536.jpg')\n",
    "while True:\n",
    "\n",
    "    screen.fill(0)\n",
    "    screen.blit(background, (0, 0))\n",
    "    screen.blit(plane_img, player_pos)\n",
    "    \n",
    "    pygame.display.update()\n",
    "    \n",
    "    key_pressed = pygame.key.get_pressed()\n",
    "    if key_pressed[K_UP]:\n",
    "        player_pos[1] -= 2\n",
    "    if key_pressed[K_DOWN]:\n",
    "            player_pos[1] += 2\n",
    "    if key_pressed[K_LEFT]:\n",
    "            player_pos[0] -= 2\n",
    "    if key_pressed[K_RIGHT]:\n",
    "            player_pos[0] += 2\n",
    "    if player_pos[0] > 260:\n",
    "        player_pos[0] = 260\n",
    "    if player_pos[0] < 10:\n",
    "        player_pos[0] = 10\n",
    "    if player_pos[1] > 380:\n",
    "        player_pos[1] =380\n",
    "    if player_pos[1] <100:\n",
    "        player_pos[1] = 100\n",
    "\n",
    "    class Bullet(pygame.sprite.Sprite):\n",
    "        def __init__(self, bullet_img, init_pos):\n",
    "            pygame.sprite.Sprite.__init__(self)\n",
    "            self.image = bullet_img\n",
    "            self.rect = self.image.get_rect()\n",
    "            self.rect.midbottom = init_pos\n",
    "            self.speed = 10\n",
    "\n",
    "        def move(self):\n",
    "            self.rect.top -= self.speed\n",
    "    class Player(pygame.sprite.Sprite):\n",
    "        def __init__(self, plane_img, player_rect, init_pos):\n",
    "            pygame.sprite.Sprite.__init__(self)\n",
    "            self.image = []\n",
    "            for i in range(len(player_rect)):\n",
    "                self.image.append(plane_img.subsurface(player_rect[i]).convert_alpha())\n",
    "            self.rect = player_rect[0]\n",
    "            self.rect.topleft = init_pos\n",
    "            self.speed = 8\n",
    "            self.bullets = pygame.sprite.Group()\n",
    "            self.img_index = 0                             \n",
    "            self.is_hit = False                             \n",
    "        \n",
    "        def shoot(self, bullet_img):\n",
    "            bullet = Bullet(bullet_img, self.rect.midtop)\n",
    "            self.bullets.add(bullet)\n",
    "\n",
    "        def moveUp(self):\n",
    "            if self.rect.top <= 0:\n",
    "                self.rect.top = 0\n",
    "            else:\n",
    "                self.rect.top -= self.speed\n",
    "\n",
    "        def moveDown(self):\n",
    "            if self.rect.top >= SCREEN_HEIGHT - self.rect.height:\n",
    "                self.rect.top = SCREEN_HEIGHT - self.rect.height\n",
    "            else:\n",
    "                self.rect.top += self.speed\n",
    "    \n",
    "        def moveLeft(self):\n",
    "            if self.rect.left <= 0:\n",
    "                self.rect.left = 0\n",
    "            else:\n",
    "                self.rect.left -= self.speed\n",
    "\n",
    "        def moveRight(self):\n",
    "            if self.rect.left >= SCREEN_WIDTH - self.rect.width:\n",
    "                self.rect.left = SCREEN_WIDTH - self.rect.width\n",
    "            else:\n",
    "                self.rect.left += self.speed\n",
    "        \n",
    "    class Enemy(pygame.sprite.Sprite):\n",
    "        def __init__(self, enemy_img, enemy_down_imgs, init_pos):\n",
    "            pygame.sprite.Sprite.__init__(self)\n",
    "            self.image = enemy_img\n",
    "            self.rect = self.image.get_rect()\n",
    "            self.rect.topleft = init_pos\n",
    "            self.down_imgs = enemy_down_imgs\n",
    "            self.speed = 2\n",
    "            self.down_index = 0\n",
    "\n",
    "        def move(self):\n",
    "            self.rect.top += self.speed\n",
    "        \n",
    "        \n",
    "    # 处理游戏退出\n",
    "    for event in pygame.event.get():\n",
    "        if event.type == pygame.QUIT:\n",
    "            pygame.quit()\n",
    "            exit()"
   ]
  },
  {
   "cell_type": "code",
   "execution_count": 4,
   "metadata": {
    "collapsed": false
   },
   "outputs": [],
   "source": []
  },
  {
   "cell_type": "code",
   "execution_count": 20,
   "metadata": {
    "collapsed": false
   },
   "outputs": [],
   "source": []
  },
  {
   "cell_type": "code",
   "execution_count": 22,
   "metadata": {
    "collapsed": true
   },
   "outputs": [],
   "source": []
  },
  {
   "cell_type": "code",
   "execution_count": 8,
   "metadata": {
    "collapsed": false
   },
   "outputs": [],
   "source": []
  },
  {
   "cell_type": "code",
   "execution_count": null,
   "metadata": {
    "collapsed": true
   },
   "outputs": [],
   "source": []
  }
 ],
 "metadata": {
  "kernelspec": {
   "display_name": "Python 2",
   "language": "python",
   "name": "python2"
  }
 },
 "nbformat": 4,
 "nbformat_minor": 0
}
